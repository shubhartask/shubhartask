{
 "cells": [
  {
   "cell_type": "code",
   "execution_count": null,
   "id": "fe3fdbc9",
   "metadata": {},
   "outputs": [],
   "source": [
    "# Question no 1.What are the two values of the Boolean data type? How do you write them?\n",
    "Two Boolean data types are:\n",
    "    1. True\n",
    "    2. False\n",
    "    \n",
    "    1. True == 1\n",
    "    2. False == 0\n",
    "We can evaluate any expression in python and get one of the two answers: True or False\n",
    "#Example:\n",
    "print(10>9)\n",
    "    \n",
    "True\n",
    "print(11<9)\n",
    "False"
   ]
  },
  {
   "cell_type": "code",
   "execution_count": null,
   "id": "e30897ed",
   "metadata": {},
   "outputs": [],
   "source": [
    "#Question no 2. What are the three different types of Boolean operators?\n",
    "Three different types of boolean operators are:\n",
    "        1. and\n",
    "        2. or\n",
    "        3. not"
   ]
  },
  {
   "cell_type": "code",
   "execution_count": null,
   "id": "c60e2fe8",
   "metadata": {},
   "outputs": [],
   "source": [
    "#Question no 3. Make a list of each Boolean operator's truth tables (i.e. every possible combination of Boolean\n",
    "values for the operator and what it evaluate ).\n",
    "True == 1 and False == 0\n",
    "     x  y  x or y\n",
    "     0  0     0     \n",
    "     0  1     1\n",
    "     1  0     1\n",
    "     1  1     1\n",
    "     \n",
    "     x  y  x and y\n",
    "     0  0     0     \n",
    "     0  1     0\n",
    "     1  0     0\n",
    "     1  1     1"
   ]
  },
  {
   "cell_type": "code",
   "execution_count": null,
   "id": "d6556f0e",
   "metadata": {},
   "outputs": [],
   "source": [
    "#Question no 4. What are the values of the following expressions?\n",
    "\n",
    "print(\"(5 > 4) and (3 == 5)-->\",(5 > 4) and (3 == 5))\n",
    "print(\"not(5>4)-->\",not(5>4))\n",
    "print(\"(5>4)or(3==5)-->\",(5>4)or(3==5))\n",
    "print(\"not ((5 > 4) or (3 == 5))-->\",not ((5 > 4) or (3 == 5)))\n",
    "print(\"(True and True) and (True == False)-->\",(True and True) and (True == False))\n",
    "print(\"(not False) or (not True)-->\",(not False) or (not True))\n",
    "\n",
    "\n",
    "(5 > 4) and (3 == 5)--> False\n",
    "not(5>4)--> False\n",
    "(5>4)or(3==5)--> True\n",
    "not ((5 > 4) or (3 == 5))--> False\n",
    "(True and True) and (True == False)--> False\n",
    "(not False) or (not True)--> True"
   ]
  },
  {
   "cell_type": "code",
   "execution_count": null,
   "id": "a26aa0cc",
   "metadata": {},
   "outputs": [],
   "source": [
    "#Question no 5. What are the six comparison operators?\n",
    "\n",
    "Comparison operators are as follows:\n",
    "    1. <  greater than\n",
    "    2. >  less than\n",
    "    3. <= less than equal to\n",
    "    4. >= greater than equal to\n",
    "    5. == equal to\n",
    "    6. != not equal to"
   ]
  },
  {
   "cell_type": "code",
   "execution_count": null,
   "id": "98082d8b",
   "metadata": {},
   "outputs": [],
   "source": [
    "#Question no 6. How do you tell the difference between the equal to and assignment operators?Describe a\n",
    "condition and when you would use one.\n",
    "\n",
    "== is equal to i.e double = sign\n",
    "= is assignment operator\n",
    "\n",
    "for example:\n",
    "# Assignment operator example\n",
    "a = 10\n",
    "b = 10  \n",
    "\n",
    "# Equal to operator example\n",
    "if a==b:\n",
    "    print(True)\n",
    "True"
   ]
  },
  {
   "cell_type": "code",
   "execution_count": null,
   "id": "4778b169",
   "metadata": {},
   "outputs": [],
   "source": [
    "# Question no 7. Identify the three blocks in this code:\n",
    "spam = 0\n",
    "if spam == 10:\n",
    "print('eggs')\n",
    "if spam > 5:\n",
    "print('bacon')\n",
    "else:\n",
    "print('ham')\n",
    "print('spam')\n",
    "print('spam')\n",
    "\n",
    "Ans: In Python, code block refers to a collection of code that is in the same block or indent. \n",
    "     This is most commonly found in classes, functions, and loops.\n",
    "\n",
    "spam = 0  \n",
    "if spam == 10:  \n",
    "    print('eggs')  # block #1\n",
    "if spam > 5:  \n",
    "    print('bacon')  # block #2\n",
    "else:  \n",
    "    print('ham')  # block #3\n",
    "print('spam')  \n",
    "print('spam')\n",
    "ham\n",
    "spam\n",
    "spam"
   ]
  },
  {
   "cell_type": "code",
   "execution_count": null,
   "id": "eeb4102d",
   "metadata": {},
   "outputs": [],
   "source": [
    "#Question no 8. Write code that prints Hello if 1 is stored in spam, prints Howdy if 2 is stored in spam, and prints Greetings! if anything else is stored in spam.\n",
    "def spamCode(spam):\n",
    "    if spam==1:\n",
    "        print('Hello')\n",
    "    elif spam==2:\n",
    "        print('Howdy')\n",
    "    else:\n",
    "        print('Greetings')\n",
    "        \n",
    "spamCode(1) \n",
    "spamCode(2)\n",
    "spamCode(3)\n",
    "Hello\n",
    "Howdy\n",
    "Greetings"
   ]
  },
  {
   "cell_type": "code",
   "execution_count": null,
   "id": "8ea575a9",
   "metadata": {},
   "outputs": [],
   "source": [
    "#Question no9.If your programme is stuck in an endless loop, what keys you’ll press?\n",
    "Ans: Press Ctrl-c to stop a program stuck in an infinite loop"
   ]
  },
  {
   "cell_type": "code",
   "execution_count": null,
   "id": "28203293",
   "metadata": {},
   "outputs": [],
   "source": [
    "#Question no 10. How can you tell the difference between break and continue?\n",
    "Ans: The break statement will move the execution outside the loop if break condtion is satisfied. Whereas the continue statement will move the execution to the start of the loop."
   ]
  },
  {
   "cell_type": "code",
   "execution_count": null,
   "id": "ec5899ff",
   "metadata": {},
   "outputs": [],
   "source": [
    "#Question no 11. In a for loop, what is the difference between range(10), range(0, 10), and range(0, 10, 1)?\n",
    "Ans: The Differences are as follows:\n",
    "\n",
    "The range(10) call range from 0 to 9 (but not include 10)\n",
    "The range (0,10) explicitly tells the loop to start at 0\n",
    "The range(0,10,1) explicitly tells the loop to increase the variable by 1 on each iteration"
   ]
  },
  {
   "cell_type": "code",
   "execution_count": null,
   "id": "a7def33c",
   "metadata": {},
   "outputs": [],
   "source": [
    "#Question no 12. Write a short program that prints the numbers 1 to 10 using a for loop. Then write an equivalent program that prints the numbers 1 to 10 using a while loop ?\n",
    "print('-'*10,'Using For Loop','-'*10)\n",
    "for i in range(1,11):\n",
    "    print(i, end=\" \")\n",
    "print('\\n')\n",
    "print('-'*10,'Using While Loop','-'*10) \n",
    "i=1\n",
    "while i<=10:\n",
    "    print(i, end=\" \")\n",
    "    i+=1\n",
    "---------- Using For Loop ----------\n",
    "1 2 3 4 5 6 7 8 9 10 \n",
    "\n",
    "---------- Using While Loop ----------\n",
    "1 2 3 4 5 6 7 8 9 10 "
   ]
  },
  {
   "cell_type": "code",
   "execution_count": null,
   "id": "5e884a7a",
   "metadata": {},
   "outputs": [],
   "source": [
    "#Question no 13. If you had a function named bacon() inside a module named spam, how would you call it after importing spam ?\n",
    "Ans: This function can be called with spam.bacon()"
   ]
  },
  {
   "cell_type": "raw",
   "id": "c0890ae7",
   "metadata": {},
   "source": []
  }
 ],
 "metadata": {
  "kernelspec": {
   "display_name": "Python 3 (ipykernel)",
   "language": "python",
   "name": "python3"
  },
  "language_info": {
   "codemirror_mode": {
    "name": "ipython",
    "version": 3
   },
   "file_extension": ".py",
   "mimetype": "text/x-python",
   "name": "python",
   "nbconvert_exporter": "python",
   "pygments_lexer": "ipython3",
   "version": "3.9.7"
  }
 },
 "nbformat": 4,
 "nbformat_minor": 5
}
