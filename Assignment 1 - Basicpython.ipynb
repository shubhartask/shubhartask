{
 "cells": [
  {
   "cell_type": "raw",
   "id": "d8b1acef",
   "metadata": {},
   "source": [
    "#Question no.1 In the below elements which of them are values or an expression? eg:- values can be integer or string and expressions will be mathematical operators.#\n",
    "\n",
    "* - expression\n",
    "'hello'-values\n",
    "-87.8 -values\n",
    "-  -expression\n",
    "/  -expression\n",
    "+  -expression\n",
    "6  -valuesO"
   ]
  },
  {
   "cell_type": "raw",
   "id": "97a3b35c",
   "metadata": {},
   "source": [
    "Question no .2 What is the difference between string and variable?\n",
    "\n",
    "# String is a data type.string is a sequence of characters enclosed in quotes. Where as variable is the name given to memory location in a program\n"
   ]
  },
  {
   "cell_type": "raw",
   "id": "fe260aa5",
   "metadata": {},
   "source": [
    "Question no.3 Describe three different data types.\n",
    "\n",
    "# Three data tpyes:\n",
    "# 1) string - string is a sequence of characters enclosed in quotes\n",
    "# 2) boolean- The boolean data type stores TRUE or FALSE data values as a single byte.you can compare two BOOLEAN values to test for equality or inequality.\n",
    "# 3) integer- The integer data type stores whole numbers."
   ]
  },
  {
   "cell_type": "raw",
   "id": "4191adee",
   "metadata": {},
   "source": [
    "Question no.4 What is an expression made up of? What do all expressions do?\n",
    "\n",
    "# Expression is a combination of values, variables and operators calls to funtions. expressions need to be evaluated.interpreter evaluates the expression and display the results. "
   ]
  },
  {
   "cell_type": "raw",
   "id": "b4732032",
   "metadata": {},
   "source": [
    "Question no.5 This assignment statements, like spam = 10. What is the difference between an expression and a statement?\n",
    "\n",
    "#Expressions is a combination of values, variables and operators calls to funtions.\n",
    "#Statement is an instruction that the python interpreter can execute."
   ]
  },
  {
   "cell_type": "raw",
   "id": "7a223f77",
   "metadata": {},
   "source": [
    "# Question no.6  After running the following code, what does the variable bacon contain?\n",
    "\n",
    "\n",
    "bacon = 22\n",
    "bacon + 1"
   ]
  },
  {
   "cell_type": "raw",
   "id": "e8099965",
   "metadata": {},
   "source": [
    "# Question 6 ans-\n",
    "bacon"
   ]
  },
  {
   "cell_type": "code",
   "execution_count": 5,
   "id": "07495013",
   "metadata": {},
   "outputs": [
    {
     "data": {
      "text/plain": [
       "'spamspamspam'"
      ]
     },
     "execution_count": 5,
     "metadata": {},
     "output_type": "execute_result"
    }
   ],
   "source": [
    "# Question no.7 What should the values of the following two terms be?\n",
    "\n",
    "# ans- Same values of both\n",
    "'spam'+\"spamspam\"\n",
    "\"spam\"*3"
   ]
  },
  {
   "cell_type": "code",
   "execution_count": 6,
   "id": "8dafa487",
   "metadata": {},
   "outputs": [
    {
     "data": {
      "text/plain": [
       "'spamspamspam'"
      ]
     },
     "execution_count": 6,
     "metadata": {},
     "output_type": "execute_result"
    }
   ],
   "source": [
    "\"spam\"*3"
   ]
  },
  {
   "cell_type": "code",
   "execution_count": null,
   "id": "6b93d4ed",
   "metadata": {},
   "outputs": [],
   "source": [
    "Question n0.8 Why is eggs a valid variable name while 100 is invalid?\n",
    "\n",
    "# variable name cannot begin with number"
   ]
  },
  {
   "cell_type": "raw",
   "id": "fe8752c5",
   "metadata": {},
   "source": [
    "Question no.9 What three functions can be used to get the integer, floating-point number, or string version of a value?\n",
    "\n",
    "# type() function"
   ]
  },
  {
   "cell_type": "raw",
   "id": "a2268e8a",
   "metadata": {},
   "source": [
    "Question 10.  Why does this expression cause an error? How can you fix it?\n",
    "'I have eaten ' + 99 + ' burritos.'\n",
    "\n",
    "# 'I have eaten' + 99 +  'burritos' this expresssion casuse error because the 99 is an integer we cannot concante integer type with string.\n",
    "# solution - we need to convert integer into string str(99)"
   ]
  }
 ],
 "metadata": {
  "kernelspec": {
   "display_name": "Python 3 (ipykernel)",
   "language": "python",
   "name": "python3"
  },
  "language_info": {
   "codemirror_mode": {
    "name": "ipython",
    "version": 3
   },
   "file_extension": ".py",
   "mimetype": "text/x-python",
   "name": "python",
   "nbconvert_exporter": "python",
   "pygments_lexer": "ipython3",
   "version": "3.9.7"
  }
 },
 "nbformat": 4,
 "nbformat_minor": 5
}
