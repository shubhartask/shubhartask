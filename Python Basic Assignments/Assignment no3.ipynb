{
 "cells": [
  {
   "cell_type": "code",
   "execution_count": null,
   "id": "247c079d",
   "metadata": {},
   "outputs": [],
   "source": [
    "#Ques 1 - Why are functions advantageous to have in your programs?\n",
    "\n",
    "Ans: Functions reduce the need for duplicate code. This makes programs shorter, easier to read, and easier to update. \n",
    "     The main advantage of functions is code Reusability."
   ]
  },
  {
   "cell_type": "code",
   "execution_count": null,
   "id": "6b150d73",
   "metadata": {},
   "outputs": [],
   "source": [
    "#Ques no 2 - When does the code in a function run: when it's specified or when it's called?\n",
    "\n",
    "\n",
    "Ans:The code in a function executes when the function is called, not when the function is specified."
   ]
  },
  {
   "cell_type": "code",
   "execution_count": null,
   "id": "e157d6f0",
   "metadata": {},
   "outputs": [],
   "source": [
    "#Ques no 3 -  What statement creates a function?\n",
    "\n",
    "Ans:  The def statement defines a function \n",
    "    \n",
    "    Syntax\n",
    "    \n",
    "def functionname( parameters ):\n",
    "   \"function_docstring\"\n",
    "   function_suite\n",
    "   return [expression]\n",
    "    "
   ]
  },
  {
   "cell_type": "code",
   "execution_count": null,
   "id": "e9ba6374",
   "metadata": {},
   "outputs": [],
   "source": [
    "#Ques no 4 - What is the difference between a function and a function call?\n",
    "\n",
    "Ans :  A function is procedure to achieve a particular result. while function call is using this\n",
    "       function to achive that task. Using a function to do a particular task any point in program is called as \n",
    "       function call."
   ]
  },
  {
   "cell_type": "code",
   "execution_count": null,
   "id": "2298a362",
   "metadata": {},
   "outputs": [],
   "source": [
    "#Ques no 5 -  How many global scopes are there in a Python program? How many local scopes?\n",
    "\n",
    "Ans :  There is one global scope, and a local scope is created whenever a function is called."
   ]
  },
  {
   "cell_type": "code",
   "execution_count": null,
   "id": "b8b07ef5",
   "metadata": {},
   "outputs": [],
   "source": [
    "#Ques no 6- What happens to variables in a local scope when the function call returns?\n",
    "\n",
    "Ans: When a function returns, the local scope is destroyed, and all the variables in it are forgotten.\n",
    "\n"
   ]
  },
  {
   "cell_type": "code",
   "execution_count": null,
   "id": "23309cf1",
   "metadata": {},
   "outputs": [],
   "source": [
    "#Ques no 7- What is the concept of a return value? Is it possible to have a return value in an expression?\n",
    "\n",
    "Ans: A return value is the value that a function call evaluates to. Like any value, a return value can be used\n",
    "     as part of an expression."
   ]
  },
  {
   "cell_type": "code",
   "execution_count": null,
   "id": "2cd4d93b",
   "metadata": {},
   "outputs": [],
   "source": [
    "#Ques no 8 - If a function does not have a return statement, what is the return value of a call to that function?\n",
    "\n",
    "Ans: If there is no return statement for a function, its return value is None."
   ]
  },
  {
   "cell_type": "code",
   "execution_count": null,
   "id": "0b1a81ec",
   "metadata": {},
   "outputs": [],
   "source": [
    "#Ques no 9 - How do you make a function variable refer to the global variable?\n",
    "\n",
    "Ans: A global statement will force a variable in a function to refer to the global variable. If you want to refer to a \n",
    "     global variable in a function, you can use the global keyword to declare which variables are global."
   ]
  },
  {
   "cell_type": "code",
   "execution_count": null,
   "id": "b9bd38b3",
   "metadata": {},
   "outputs": [],
   "source": [
    "#Ques no 10 - What is the data type of None?\n",
    "\n",
    "Ans: The data type of None is NoneType."
   ]
  },
  {
   "cell_type": "code",
   "execution_count": null,
   "id": "655b0c71",
   "metadata": {},
   "outputs": [],
   "source": [
    "#Ques no 11- What does the sentence import areallyourpetsnamederic do?\n",
    "\n",
    "Ans: That import statement imports a module named areallyourpetsnamederic."
   ]
  },
  {
   "cell_type": "code",
   "execution_count": null,
   "id": "32a92f79",
   "metadata": {},
   "outputs": [],
   "source": [
    "#Ques no 12 - If you had a bacon() feature in a spam module, what would you call it after importing spam?\n",
    "\n",
    "Ans: This function can be called with spam.bacon()"
   ]
  },
  {
   "cell_type": "code",
   "execution_count": null,
   "id": "951cede8",
   "metadata": {},
   "outputs": [],
   "source": [
    "#Ques no 13 - What can you do to save a programme from crashing if it encounters an error?\n",
    "\n",
    "Ans: Place the line of code that might cause an error in a try clause and use except block to handle the error."
   ]
  },
  {
   "cell_type": "code",
   "execution_count": null,
   "id": "eac979a2",
   "metadata": {},
   "outputs": [],
   "source": [
    "#Ques no 14 - What is the purpose of the try clause? What is the purpose of the except clause?\n",
    "\n",
    "\n",
    "Ans: The code that could potentially cause an error goes in the try clause. The code that executes if an error\n",
    "    happens goes in the except clause."
   ]
  }
 ],
 "metadata": {
  "kernelspec": {
   "display_name": "Python 3 (ipykernel)",
   "language": "python",
   "name": "python3"
  },
  "language_info": {
   "codemirror_mode": {
    "name": "ipython",
    "version": 3
   },
   "file_extension": ".py",
   "mimetype": "text/x-python",
   "name": "python",
   "nbconvert_exporter": "python",
   "pygments_lexer": "ipython3",
   "version": "3.9.7"
  }
 },
 "nbformat": 4,
 "nbformat_minor": 5
}
